{
 "cells": [
  {
   "cell_type": "code",
   "execution_count": 1,
   "id": "2096f97d-2c96-4296-b13a-c5046e32aea9",
   "metadata": {},
   "outputs": [
    {
     "name": "stderr",
     "output_type": "stream",
     "text": [
      "/home/aribra/.conda/envs/openmmlab/lib/python3.8/site-packages/tqdm/auto.py:21: TqdmWarning: IProgress not found. Please update jupyter and ipywidgets. See https://ipywidgets.readthedocs.io/en/stable/user_install.html\n",
      "  from .autonotebook import tqdm as notebook_tqdm\n"
     ]
    }
   ],
   "source": [
    "import time\n",
    "import torch\n",
    "import numpy as np\n",
    "from mmpretrain import init_model"
   ]
  },
  {
   "cell_type": "markdown",
   "id": "32903f3c-e298-4e6b-998b-f5752a774a9d",
   "metadata": {},
   "source": [
    "### Original model"
   ]
  },
  {
   "cell_type": "code",
   "execution_count": 2,
   "id": "ef4d61a8-601f-42ce-a3d5-dec1b5f4670f",
   "metadata": {},
   "outputs": [
    {
     "name": "stdout",
     "output_type": "stream",
     "text": [
      "01/23 14:16:03 - mmengine - \u001b[4m\u001b[97mINFO\u001b[0m - Because batch augmentations are enabled, the data preprocessor automatically enables the `to_onehot` option to generate one-hot format labels.\n",
      "Loads checkpoint by local backend from path: /home/exdata/istinye/swin_t_training/swin_t_tiny_in200/best_accuracy_top1_epoch_27.pth\n"
     ]
    }
   ],
   "source": [
    "o_model_weights = \"/home/exdata/istinye/swin_t_training/swin_t_tiny_in200/best_accuracy_top1_epoch_27.pth\"\n",
    "o_cfg = \"/home/exdata/istinye/swin_t_training/swin_t_tiny_in200/metrics_original/swin-tiny_1xb256_in1k_224_1k.py\"\n",
    "o_model = init_model(o_cfg, o_model_weights)\n"
   ]
  },
  {
   "cell_type": "markdown",
   "id": "023b7f5e-5b0d-4416-94a2-7ad0561a2328",
   "metadata": {},
   "source": [
    "#### Original latency"
   ]
  },
  {
   "cell_type": "code",
   "execution_count": 3,
   "id": "82cabee7-6c71-4645-9a4c-556df5aa1ff5",
   "metadata": {},
   "outputs": [],
   "source": [
    "N = 300\n",
    "durations = []\n",
    "for i in range(N):\n",
    "    x = torch.randn(1, 3, 224, 224)\n",
    "\n",
    "    torch.cuda.synchronize()\n",
    "    start_time = time.time()\n",
    "    o_model(x)\n",
    "    torch.cuda.synchronize()\n",
    "    end_time = time.time()\n",
    "\n",
    "    latency = end_time - start_time\n",
    "    \n",
    "    durations.append(latency)\n",
    "\n",
    "durations = np.array(durations)"
   ]
  },
  {
   "cell_type": "code",
   "execution_count": 4,
   "id": "4dabe01b-69a1-4448-88c3-5992b0912f7e",
   "metadata": {},
   "outputs": [
    {
     "name": "stdout",
     "output_type": "stream",
     "text": [
      "mean_latency =  0.07038877805074056\n",
      "fps =  14.206810058261539\n"
     ]
    }
   ],
   "source": [
    "mean_lat_o = durations.mean()\n",
    "min_lat_o = durations.min()\n",
    "max_lat_o = durations.max()\n",
    "\n",
    "fps_o = 1 / mean_lat_o\n",
    "print(\"mean_latency = \", mean_lat_o)\n",
    "print(\"fps = \", 1 / mean_lat_o)"
   ]
  },
  {
   "cell_type": "code",
   "execution_count": 5,
   "id": "8cbc0fc7-cc34-4de7-9bb7-428687f3c5f0",
   "metadata": {},
   "outputs": [],
   "source": [
    "# del o_model"
   ]
  },
  {
   "cell_type": "code",
   "execution_count": null,
   "id": "336f073b-3856-4761-85c8-589053e6fdd5",
   "metadata": {},
   "outputs": [],
   "source": []
  },
  {
   "cell_type": "markdown",
   "id": "41b31e79-f81e-4d87-b256-99f0c855f751",
   "metadata": {},
   "source": [
    "### Pruned model"
   ]
  },
  {
   "cell_type": "code",
   "execution_count": 6,
   "id": "75ba4db1-b713-4f68-b5a5-a1153bfc0c48",
   "metadata": {},
   "outputs": [
    {
     "data": {
      "text/plain": [
       "<All keys matched successfully>"
      ]
     },
     "execution_count": 6,
     "metadata": {},
     "output_type": "execute_result"
    }
   ],
   "source": [
    "p_model_weights = \"/home/exdata/istinye/swin_t_training/pruned_swin_t_tiny_in200_cont/best_accuracy_top1_epoch_32.pth\"\n",
    "pruned_swin_t_model_flat = \"/home/exdata/istinye/swin_t_training/swin_t_backbone_Pruned_25.pth\"\n",
    "\n",
    "p_model = torch.load(pruned_swin_t_model_flat)\n",
    "p_model = p_model.eval()\n",
    "\n",
    "p_weights = torch.load(p_model_weights)\n",
    "\n",
    "p_model.load_state_dict(p_weights['state_dict'])"
   ]
  },
  {
   "cell_type": "markdown",
   "id": "6ab7cf29-18bd-4947-b7d5-7b8187707d49",
   "metadata": {},
   "source": [
    "#### Pruned latency"
   ]
  },
  {
   "cell_type": "code",
   "execution_count": 7,
   "id": "0cc192b0-d5c3-4d09-96bc-d5798e58ecec",
   "metadata": {},
   "outputs": [],
   "source": [
    "N = 300\n",
    "durations = []\n",
    "for i in range(N):\n",
    "    x = torch.randn(1, 3, 224, 224)\n",
    "\n",
    "    torch.cuda.synchronize()\n",
    "    start_time = time.time()\n",
    "    p_model(x)\n",
    "    torch.cuda.synchronize()\n",
    "    end_time = time.time()\n",
    "\n",
    "    latency = end_time - start_time\n",
    "    \n",
    "    durations.append(latency)\n",
    "\n",
    "durations = np.array(durations)"
   ]
  },
  {
   "cell_type": "code",
   "execution_count": 8,
   "id": "feb90f6b-24b7-44a1-bb1f-01e23480dbbc",
   "metadata": {},
   "outputs": [
    {
     "name": "stdout",
     "output_type": "stream",
     "text": [
      "mean_latency =  0.05617416381835937\n",
      "fps =  17.801778113396153\n"
     ]
    }
   ],
   "source": [
    "mean_lat_p = durations.mean()\n",
    "min_lat_p = durations.min()\n",
    "max_lat_p = durations.max()\n",
    "\n",
    "fps_p = 1 / mean_lat_p\n",
    "print(\"mean_latency = \", mean_lat_p)\n",
    "print(\"fps = \", 1 / mean_lat_p)"
   ]
  },
  {
   "cell_type": "code",
   "execution_count": null,
   "id": "160e4a01-0bbe-407c-9b40-38f093b1df0d",
   "metadata": {},
   "outputs": [],
   "source": []
  },
  {
   "cell_type": "markdown",
   "id": "8275cba5-3507-461d-b5f8-5fb8fec33657",
   "metadata": {},
   "source": [
    "### Latency diff"
   ]
  },
  {
   "cell_type": "code",
   "execution_count": 9,
   "id": "17391e7a-541a-4d05-b305-44584cca3e45",
   "metadata": {},
   "outputs": [
    {
     "name": "stdout",
     "output_type": "stream",
     "text": [
      "diff_prcnt % =  25.548780019469884\n"
     ]
    }
   ],
   "source": [
    "diff = 1 - (fps_o / fps_p) \n",
    "diff_prcnt = diff * 100\n",
    "\n",
    "print(\"diff_prcnt % = \", diff_prcnt)"
   ]
  },
  {
   "cell_type": "code",
   "execution_count": null,
   "id": "413787ce-4e2e-4837-8f54-8438b8ce16ac",
   "metadata": {},
   "outputs": [],
   "source": []
  }
 ],
 "metadata": {
  "kernelspec": {
   "display_name": "Python (openmmlab)",
   "language": "python",
   "name": "openmmlab"
  },
  "language_info": {
   "codemirror_mode": {
    "name": "ipython",
    "version": 3
   },
   "file_extension": ".py",
   "mimetype": "text/x-python",
   "name": "python",
   "nbconvert_exporter": "python",
   "pygments_lexer": "ipython3",
   "version": "3.8.18"
  }
 },
 "nbformat": 4,
 "nbformat_minor": 5
}
